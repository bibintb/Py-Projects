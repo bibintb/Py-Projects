{
  "nbformat": 4,
  "nbformat_minor": 0,
  "metadata": {
    "colab": {
      "name": "Financial Analysis Facebook.ipynb",
      "provenance": []
    },
    "kernelspec": {
      "name": "python3",
      "display_name": "Python 3"
    }
  },
  "cells": [
    {
      "cell_type": "markdown",
      "metadata": {
        "id": "cSl3N1AT230q"
      },
      "source": [
        "**Facebook Finanacial Analytics from 18-Jan-2020 to 18-Jan-2021**"
      ]
    },
    {
      "cell_type": "code",
      "metadata": {
        "id": "MQnw3fPe3IgS"
      },
      "source": [
        "import pandas as pd \r\n",
        "import numpy as np"
      ],
      "execution_count": 48,
      "outputs": []
    },
    {
      "cell_type": "code",
      "metadata": {
        "id": "4nvADKNRryeN"
      },
      "source": [
        "df = pd.read_csv('https://query1.finance.yahoo.com/v7/finance/download/FB?period1=1579353989&period2=1610976389&interval=1d&events=history&includeAdjustedClose=true')"
      ],
      "execution_count": 49,
      "outputs": []
    },
    {
      "cell_type": "code",
      "metadata": {
        "colab": {
          "base_uri": "https://localhost:8080/",
          "height": 419
        },
        "id": "ZmtK2N0fsHfv",
        "outputId": "76627dd3-3b58-4b20-ed56-c11ec1a2b53a"
      },
      "source": [
        "df"
      ],
      "execution_count": 50,
      "outputs": [
        {
          "output_type": "execute_result",
          "data": {
            "text/html": [
              "<div>\n",
              "<style scoped>\n",
              "    .dataframe tbody tr th:only-of-type {\n",
              "        vertical-align: middle;\n",
              "    }\n",
              "\n",
              "    .dataframe tbody tr th {\n",
              "        vertical-align: top;\n",
              "    }\n",
              "\n",
              "    .dataframe thead th {\n",
              "        text-align: right;\n",
              "    }\n",
              "</style>\n",
              "<table border=\"1\" class=\"dataframe\">\n",
              "  <thead>\n",
              "    <tr style=\"text-align: right;\">\n",
              "      <th></th>\n",
              "      <th>Date</th>\n",
              "      <th>Open</th>\n",
              "      <th>High</th>\n",
              "      <th>Low</th>\n",
              "      <th>Close</th>\n",
              "      <th>Adj Close</th>\n",
              "      <th>Volume</th>\n",
              "    </tr>\n",
              "  </thead>\n",
              "  <tbody>\n",
              "    <tr>\n",
              "      <th>0</th>\n",
              "      <td>2020-01-21</td>\n",
              "      <td>222.160004</td>\n",
              "      <td>222.369995</td>\n",
              "      <td>219.119995</td>\n",
              "      <td>221.440002</td>\n",
              "      <td>221.440002</td>\n",
              "      <td>14275800</td>\n",
              "    </tr>\n",
              "    <tr>\n",
              "      <th>1</th>\n",
              "      <td>2020-01-22</td>\n",
              "      <td>222.309998</td>\n",
              "      <td>222.750000</td>\n",
              "      <td>221.279999</td>\n",
              "      <td>221.320007</td>\n",
              "      <td>221.320007</td>\n",
              "      <td>12212800</td>\n",
              "    </tr>\n",
              "    <tr>\n",
              "      <th>2</th>\n",
              "      <td>2020-01-23</td>\n",
              "      <td>220.750000</td>\n",
              "      <td>221.490005</td>\n",
              "      <td>219.270004</td>\n",
              "      <td>219.759995</td>\n",
              "      <td>219.759995</td>\n",
              "      <td>11195000</td>\n",
              "    </tr>\n",
              "    <tr>\n",
              "      <th>3</th>\n",
              "      <td>2020-01-24</td>\n",
              "      <td>220.800003</td>\n",
              "      <td>221.779999</td>\n",
              "      <td>216.110001</td>\n",
              "      <td>217.940002</td>\n",
              "      <td>217.940002</td>\n",
              "      <td>11905800</td>\n",
              "    </tr>\n",
              "    <tr>\n",
              "      <th>4</th>\n",
              "      <td>2020-01-27</td>\n",
              "      <td>213.100006</td>\n",
              "      <td>216.059998</td>\n",
              "      <td>212.500000</td>\n",
              "      <td>214.869995</td>\n",
              "      <td>214.869995</td>\n",
              "      <td>13810700</td>\n",
              "    </tr>\n",
              "    <tr>\n",
              "      <th>...</th>\n",
              "      <td>...</td>\n",
              "      <td>...</td>\n",
              "      <td>...</td>\n",
              "      <td>...</td>\n",
              "      <td>...</td>\n",
              "      <td>...</td>\n",
              "      <td>...</td>\n",
              "    </tr>\n",
              "    <tr>\n",
              "      <th>246</th>\n",
              "      <td>2021-01-11</td>\n",
              "      <td>260.480011</td>\n",
              "      <td>263.470001</td>\n",
              "      <td>255.899994</td>\n",
              "      <td>256.839996</td>\n",
              "      <td>256.839996</td>\n",
              "      <td>30412300</td>\n",
              "    </tr>\n",
              "    <tr>\n",
              "      <th>247</th>\n",
              "      <td>2021-01-12</td>\n",
              "      <td>256.630005</td>\n",
              "      <td>259.720001</td>\n",
              "      <td>250.300003</td>\n",
              "      <td>251.089996</td>\n",
              "      <td>251.089996</td>\n",
              "      <td>26449900</td>\n",
              "    </tr>\n",
              "    <tr>\n",
              "      <th>248</th>\n",
              "      <td>2021-01-13</td>\n",
              "      <td>251.550003</td>\n",
              "      <td>253.949997</td>\n",
              "      <td>249.199997</td>\n",
              "      <td>251.639999</td>\n",
              "      <td>251.639999</td>\n",
              "      <td>19528900</td>\n",
              "    </tr>\n",
              "    <tr>\n",
              "      <th>249</th>\n",
              "      <td>2021-01-14</td>\n",
              "      <td>253.399994</td>\n",
              "      <td>255.029999</td>\n",
              "      <td>244.610001</td>\n",
              "      <td>245.639999</td>\n",
              "      <td>245.639999</td>\n",
              "      <td>29739400</td>\n",
              "    </tr>\n",
              "    <tr>\n",
              "      <th>250</th>\n",
              "      <td>2021-01-15</td>\n",
              "      <td>247.899994</td>\n",
              "      <td>253.860001</td>\n",
              "      <td>247.160004</td>\n",
              "      <td>251.360001</td>\n",
              "      <td>251.360001</td>\n",
              "      <td>24786100</td>\n",
              "    </tr>\n",
              "  </tbody>\n",
              "</table>\n",
              "<p>251 rows × 7 columns</p>\n",
              "</div>"
            ],
            "text/plain": [
              "           Date        Open        High  ...       Close   Adj Close    Volume\n",
              "0    2020-01-21  222.160004  222.369995  ...  221.440002  221.440002  14275800\n",
              "1    2020-01-22  222.309998  222.750000  ...  221.320007  221.320007  12212800\n",
              "2    2020-01-23  220.750000  221.490005  ...  219.759995  219.759995  11195000\n",
              "3    2020-01-24  220.800003  221.779999  ...  217.940002  217.940002  11905800\n",
              "4    2020-01-27  213.100006  216.059998  ...  214.869995  214.869995  13810700\n",
              "..          ...         ...         ...  ...         ...         ...       ...\n",
              "246  2021-01-11  260.480011  263.470001  ...  256.839996  256.839996  30412300\n",
              "247  2021-01-12  256.630005  259.720001  ...  251.089996  251.089996  26449900\n",
              "248  2021-01-13  251.550003  253.949997  ...  251.639999  251.639999  19528900\n",
              "249  2021-01-14  253.399994  255.029999  ...  245.639999  245.639999  29739400\n",
              "250  2021-01-15  247.899994  253.860001  ...  251.360001  251.360001  24786100\n",
              "\n",
              "[251 rows x 7 columns]"
            ]
          },
          "metadata": {
            "tags": []
          },
          "execution_count": 50
        }
      ]
    },
    {
      "cell_type": "code",
      "metadata": {
        "colab": {
          "base_uri": "https://localhost:8080/"
        },
        "id": "tCfTTZfe0WUs",
        "outputId": "3bf0f2f5-84fc-405e-9d2b-2bbf0259716d"
      },
      "source": [
        "df.info()"
      ],
      "execution_count": 51,
      "outputs": [
        {
          "output_type": "stream",
          "text": [
            "<class 'pandas.core.frame.DataFrame'>\n",
            "RangeIndex: 251 entries, 0 to 250\n",
            "Data columns (total 7 columns):\n",
            " #   Column     Non-Null Count  Dtype  \n",
            "---  ------     --------------  -----  \n",
            " 0   Date       251 non-null    object \n",
            " 1   Open       251 non-null    float64\n",
            " 2   High       251 non-null    float64\n",
            " 3   Low        251 non-null    float64\n",
            " 4   Close      251 non-null    float64\n",
            " 5   Adj Close  251 non-null    float64\n",
            " 6   Volume     251 non-null    int64  \n",
            "dtypes: float64(5), int64(1), object(1)\n",
            "memory usage: 13.9+ KB\n"
          ],
          "name": "stdout"
        }
      ]
    },
    {
      "cell_type": "code",
      "metadata": {
        "id": "ymn5QX4y0g3m"
      },
      "source": [
        "df['Date'] = pd.to_datetime(df['Date'])"
      ],
      "execution_count": 52,
      "outputs": []
    },
    {
      "cell_type": "code",
      "metadata": {
        "colab": {
          "base_uri": "https://localhost:8080/"
        },
        "id": "dUG8V0rw0kMK",
        "outputId": "e1a3e540-cf8d-4864-b887-cff454111b67"
      },
      "source": [
        "df.info()"
      ],
      "execution_count": 53,
      "outputs": [
        {
          "output_type": "stream",
          "text": [
            "<class 'pandas.core.frame.DataFrame'>\n",
            "RangeIndex: 251 entries, 0 to 250\n",
            "Data columns (total 7 columns):\n",
            " #   Column     Non-Null Count  Dtype         \n",
            "---  ------     --------------  -----         \n",
            " 0   Date       251 non-null    datetime64[ns]\n",
            " 1   Open       251 non-null    float64       \n",
            " 2   High       251 non-null    float64       \n",
            " 3   Low        251 non-null    float64       \n",
            " 4   Close      251 non-null    float64       \n",
            " 5   Adj Close  251 non-null    float64       \n",
            " 6   Volume     251 non-null    int64         \n",
            "dtypes: datetime64[ns](1), float64(5), int64(1)\n",
            "memory usage: 13.9 KB\n"
          ],
          "name": "stdout"
        }
      ]
    },
    {
      "cell_type": "code",
      "metadata": {
        "id": "CpH3mcqE0zpw"
      },
      "source": [
        "import matplotlib.pyplot as plt\r\n",
        "%matplotlib inline"
      ],
      "execution_count": 54,
      "outputs": []
    },
    {
      "cell_type": "code",
      "metadata": {
        "colab": {
          "base_uri": "https://localhost:8080/",
          "height": 557
        },
        "id": "-vW35NJz1j2P",
        "outputId": "4b7d2e6f-21bb-4121-c928-c5d5ae910fbe"
      },
      "source": [
        "plt.figure(figsize=(20,8))\r\n",
        "plt.plot('Date','Close',data=df)\r\n",
        "plt.xlabel('Date')\r\n",
        "plt.ylabel('Close Price')\r\n",
        "plt.xticks(rotation=45)"
      ],
      "execution_count": 55,
      "outputs": [
        {
          "output_type": "execute_result",
          "data": {
            "text/plain": [
              "(array([737485., 737546., 737607., 737669., 737730., 737791.]),\n",
              " <a list of 6 Text major ticklabel objects>)"
            ]
          },
          "metadata": {
            "tags": []
          },
          "execution_count": 55
        },
        {
          "output_type": "display_data",
          "data": {
            "image/png": "[encoded data removed]",
            "text/plain": [
              "<Figure size 1440x576 with 1 Axes>"
            ]
          },
          "metadata": {
            "tags": [],
            "needs_background": "light"
          }
        }
      ]
    },
    {
      "cell_type": "code",
      "metadata": {
        "colab": {
          "base_uri": "https://localhost:8080/",
          "height": 204
        },
        "id": "JZOcGAQ31nEt",
        "outputId": "f3208391-3344-4a1c-cd40-ec2fb3ce7e3c"
      },
      "source": [
        "df['Daily Lag'] = df['Close'].shift(1)   #Creation of columns\r\n",
        "df.head()"
      ],
      "execution_count": 56,
      "outputs": [
        {
          "output_type": "execute_result",
          "data": {
            "text/html": [
              "<div>\n",
              "<style scoped>\n",
              "    .dataframe tbody tr th:only-of-type {\n",
              "        vertical-align: middle;\n",
              "    }\n",
              "\n",
              "    .dataframe tbody tr th {\n",
              "        vertical-align: top;\n",
              "    }\n",
              "\n",
              "    .dataframe thead th {\n",
              "        text-align: right;\n",
              "    }\n",
              "</style>\n",
              "<table border=\"1\" class=\"dataframe\">\n",
              "  <thead>\n",
              "    <tr style=\"text-align: right;\">\n",
              "      <th></th>\n",
              "      <th>Date</th>\n",
              "      <th>Open</th>\n",
              "      <th>High</th>\n",
              "      <th>Low</th>\n",
              "      <th>Close</th>\n",
              "      <th>Adj Close</th>\n",
              "      <th>Volume</th>\n",
              "      <th>Daily Lag</th>\n",
              "    </tr>\n",
              "  </thead>\n",
              "  <tbody>\n",
              "    <tr>\n",
              "      <th>0</th>\n",
              "      <td>2020-01-21</td>\n",
              "      <td>222.160004</td>\n",
              "      <td>222.369995</td>\n",
              "      <td>219.119995</td>\n",
              "      <td>221.440002</td>\n",
              "      <td>221.440002</td>\n",
              "      <td>14275800</td>\n",
              "      <td>NaN</td>\n",
              "    </tr>\n",
              "    <tr>\n",
              "      <th>1</th>\n",
              "      <td>2020-01-22</td>\n",
              "      <td>222.309998</td>\n",
              "      <td>222.750000</td>\n",
              "      <td>221.279999</td>\n",
              "      <td>221.320007</td>\n",
              "      <td>221.320007</td>\n",
              "      <td>12212800</td>\n",
              "      <td>221.440002</td>\n",
              "    </tr>\n",
              "    <tr>\n",
              "      <th>2</th>\n",
              "      <td>2020-01-23</td>\n",
              "      <td>220.750000</td>\n",
              "      <td>221.490005</td>\n",
              "      <td>219.270004</td>\n",
              "      <td>219.759995</td>\n",
              "      <td>219.759995</td>\n",
              "      <td>11195000</td>\n",
              "      <td>221.320007</td>\n",
              "    </tr>\n",
              "    <tr>\n",
              "      <th>3</th>\n",
              "      <td>2020-01-24</td>\n",
              "      <td>220.800003</td>\n",
              "      <td>221.779999</td>\n",
              "      <td>216.110001</td>\n",
              "      <td>217.940002</td>\n",
              "      <td>217.940002</td>\n",
              "      <td>11905800</td>\n",
              "      <td>219.759995</td>\n",
              "    </tr>\n",
              "    <tr>\n",
              "      <th>4</th>\n",
              "      <td>2020-01-27</td>\n",
              "      <td>213.100006</td>\n",
              "      <td>216.059998</td>\n",
              "      <td>212.500000</td>\n",
              "      <td>214.869995</td>\n",
              "      <td>214.869995</td>\n",
              "      <td>13810700</td>\n",
              "      <td>217.940002</td>\n",
              "    </tr>\n",
              "  </tbody>\n",
              "</table>\n",
              "</div>"
            ],
            "text/plain": [
              "        Date        Open        High  ...   Adj Close    Volume   Daily Lag\n",
              "0 2020-01-21  222.160004  222.369995  ...  221.440002  14275800         NaN\n",
              "1 2020-01-22  222.309998  222.750000  ...  221.320007  12212800  221.440002\n",
              "2 2020-01-23  220.750000  221.490005  ...  219.759995  11195000  221.320007\n",
              "3 2020-01-24  220.800003  221.779999  ...  217.940002  11905800  219.759995\n",
              "4 2020-01-27  213.100006  216.059998  ...  214.869995  13810700  217.940002\n",
              "\n",
              "[5 rows x 8 columns]"
            ]
          },
          "metadata": {
            "tags": []
          },
          "execution_count": 56
        }
      ]
    },
    {
      "cell_type": "code",
      "metadata": {
        "colab": {
          "base_uri": "https://localhost:8080/",
          "height": 204
        },
        "id": "ZoQqxHuB1rUR",
        "outputId": "1321822e-569c-4ba6-f96f-dab24e07451b"
      },
      "source": [
        "df['Daily Returns'] = (df['Daily Lag']/df['Close']) -1   # Daily returns tells us the returns that we obtain in a day after the stock price closes\r\n",
        "df.head()"
      ],
      "execution_count": 57,
      "outputs": [
        {
          "output_type": "execute_result",
          "data": {
            "text/html": [
              "<div>\n",
              "<style scoped>\n",
              "    .dataframe tbody tr th:only-of-type {\n",
              "        vertical-align: middle;\n",
              "    }\n",
              "\n",
              "    .dataframe tbody tr th {\n",
              "        vertical-align: top;\n",
              "    }\n",
              "\n",
              "    .dataframe thead th {\n",
              "        text-align: right;\n",
              "    }\n",
              "</style>\n",
              "<table border=\"1\" class=\"dataframe\">\n",
              "  <thead>\n",
              "    <tr style=\"text-align: right;\">\n",
              "      <th></th>\n",
              "      <th>Date</th>\n",
              "      <th>Open</th>\n",
              "      <th>High</th>\n",
              "      <th>Low</th>\n",
              "      <th>Close</th>\n",
              "      <th>Adj Close</th>\n",
              "      <th>Volume</th>\n",
              "      <th>Daily Lag</th>\n",
              "      <th>Daily Returns</th>\n",
              "    </tr>\n",
              "  </thead>\n",
              "  <tbody>\n",
              "    <tr>\n",
              "      <th>0</th>\n",
              "      <td>2020-01-21</td>\n",
              "      <td>222.160004</td>\n",
              "      <td>222.369995</td>\n",
              "      <td>219.119995</td>\n",
              "      <td>221.440002</td>\n",
              "      <td>221.440002</td>\n",
              "      <td>14275800</td>\n",
              "      <td>NaN</td>\n",
              "      <td>NaN</td>\n",
              "    </tr>\n",
              "    <tr>\n",
              "      <th>1</th>\n",
              "      <td>2020-01-22</td>\n",
              "      <td>222.309998</td>\n",
              "      <td>222.750000</td>\n",
              "      <td>221.279999</td>\n",
              "      <td>221.320007</td>\n",
              "      <td>221.320007</td>\n",
              "      <td>12212800</td>\n",
              "      <td>221.440002</td>\n",
              "      <td>0.000542</td>\n",
              "    </tr>\n",
              "    <tr>\n",
              "      <th>2</th>\n",
              "      <td>2020-01-23</td>\n",
              "      <td>220.750000</td>\n",
              "      <td>221.490005</td>\n",
              "      <td>219.270004</td>\n",
              "      <td>219.759995</td>\n",
              "      <td>219.759995</td>\n",
              "      <td>11195000</td>\n",
              "      <td>221.320007</td>\n",
              "      <td>0.007099</td>\n",
              "    </tr>\n",
              "    <tr>\n",
              "      <th>3</th>\n",
              "      <td>2020-01-24</td>\n",
              "      <td>220.800003</td>\n",
              "      <td>221.779999</td>\n",
              "      <td>216.110001</td>\n",
              "      <td>217.940002</td>\n",
              "      <td>217.940002</td>\n",
              "      <td>11905800</td>\n",
              "      <td>219.759995</td>\n",
              "      <td>0.008351</td>\n",
              "    </tr>\n",
              "    <tr>\n",
              "      <th>4</th>\n",
              "      <td>2020-01-27</td>\n",
              "      <td>213.100006</td>\n",
              "      <td>216.059998</td>\n",
              "      <td>212.500000</td>\n",
              "      <td>214.869995</td>\n",
              "      <td>214.869995</td>\n",
              "      <td>13810700</td>\n",
              "      <td>217.940002</td>\n",
              "      <td>0.014288</td>\n",
              "    </tr>\n",
              "  </tbody>\n",
              "</table>\n",
              "</div>"
            ],
            "text/plain": [
              "        Date        Open        High  ...    Volume   Daily Lag  Daily Returns\n",
              "0 2020-01-21  222.160004  222.369995  ...  14275800         NaN            NaN\n",
              "1 2020-01-22  222.309998  222.750000  ...  12212800  221.440002       0.000542\n",
              "2 2020-01-23  220.750000  221.490005  ...  11195000  221.320007       0.007099\n",
              "3 2020-01-24  220.800003  221.779999  ...  11905800  219.759995       0.008351\n",
              "4 2020-01-27  213.100006  216.059998  ...  13810700  217.940002       0.014288\n",
              "\n",
              "[5 rows x 9 columns]"
            ]
          },
          "metadata": {
            "tags": []
          },
          "execution_count": 57
        }
      ]
    },
    {
      "cell_type": "code",
      "metadata": {
        "colab": {
          "base_uri": "https://localhost:8080/",
          "height": 282
        },
        "id": "zrsjDnDq1uTE",
        "outputId": "e5ce06ce-908e-4e1d-ba89-6ae241aa087d"
      },
      "source": [
        "df['Daily Returns'].hist()"
      ],
      "execution_count": 58,
      "outputs": [
        {
          "output_type": "execute_result",
          "data": {
            "text/plain": [
              "<matplotlib.axes._subplots.AxesSubplot at 0x7f3902229128>"
            ]
          },
          "metadata": {
            "tags": []
          },
          "execution_count": 58
        },
        {
          "output_type": "display_data",
          "data": {
            "image/png": "[encoded data removed]",
            "text/plain": [
              "<Figure size 432x288 with 1 Axes>"
            ]
          },
          "metadata": {
            "tags": [],
            "needs_background": "light"
          }
        }
      ]
    },
    {
      "cell_type": "code",
      "metadata": {
        "colab": {
          "base_uri": "https://localhost:8080/",
          "height": 282
        },
        "id": "Jifycn3f179-",
        "outputId": "355795ce-14ff-4f7f-ec36-b50c9c3cfc79"
      },
      "source": [
        "df['Daily Lag'].hist()"
      ],
      "execution_count": 59,
      "outputs": [
        {
          "output_type": "execute_result",
          "data": {
            "text/plain": [
              "<matplotlib.axes._subplots.AxesSubplot at 0x7f39020e1a20>"
            ]
          },
          "metadata": {
            "tags": []
          },
          "execution_count": 59
        },
        {
          "output_type": "display_data",
          "data": {
            "image/png": "[encoded data removed]",
            "text/plain": [
              "<Figure size 432x288 with 1 Axes>"
            ]
          },
          "metadata": {
            "tags": [],
            "needs_background": "light"
          }
        }
      ]
    },
    {
      "cell_type": "code",
      "metadata": {
        "colab": {
          "base_uri": "https://localhost:8080/",
          "height": 295
        },
        "id": "NOWZ4fNA2GkQ",
        "outputId": "97620953-8106-4d73-fa17-e08f31231633"
      },
      "source": [
        "df['Volume'].hist()"
      ],
      "execution_count": 60,
      "outputs": [
        {
          "output_type": "execute_result",
          "data": {
            "text/plain": [
              "<matplotlib.axes._subplots.AxesSubplot at 0x7f3902040ba8>"
            ]
          },
          "metadata": {
            "tags": []
          },
          "execution_count": 60
        },
        {
          "output_type": "display_data",
          "data": {
            "image/png": "[encoded data removed]",
            "text/plain": [
              "<Figure size 432x288 with 1 Axes>"
            ]
          },
          "metadata": {
            "tags": [],
            "needs_background": "light"
          }
        }
      ]
    },
    {
      "cell_type": "code",
      "metadata": {
        "colab": {
          "base_uri": "https://localhost:8080/"
        },
        "id": "OlP2e7Np2KZ0",
        "outputId": "09a85cf8-d49b-4a59-f354-7f8aac733619"
      },
      "source": [
        "mean = df['Daily Returns'].mean()\r\n",
        "std = df['Daily Returns'].std()\r\n",
        "print('mean =',mean)\r\n",
        "print('Std deviation =',std)"
      ],
      "execution_count": 61,
      "outputs": [
        {
          "output_type": "stream",
          "text": [
            "mean = -7.394855788405197e-05\n",
            "Std deviation = 0.02962655822021488\n"
          ],
          "name": "stdout"
        }
      ]
    },
    {
      "cell_type": "code",
      "metadata": {
        "colab": {
          "base_uri": "https://localhost:8080/",
          "height": 282
        },
        "id": "t5aj3U172S3g",
        "outputId": "52c764be-bd9d-44aa-c9b0-99088750d236"
      },
      "source": [
        "df['Daily Returns'].hist(bins=20)\r\n",
        "plt.axvline(mean,color='red',linestyle='dashed',linewidth=2)\r\n",
        "#to plot the std line we plot both the positive and negative values \r\n",
        "plt.axvline(std,color='g',linestyle='dashed',linewidth=2)\r\n",
        "plt.axvline(-std,color='g',linestyle='dashed',linewidth=2)"
      ],
      "execution_count": 62,
      "outputs": [
        {
          "output_type": "execute_result",
          "data": {
            "text/plain": [
              "<matplotlib.lines.Line2D at 0x7f390231b940>"
            ]
          },
          "metadata": {
            "tags": []
          },
          "execution_count": 62
        },
        {
          "output_type": "display_data",
          "data": {
            "image/png": "[encoded data removed]",
            "text/plain": [
              "<Figure size 432x288 with 1 Axes>"
            ]
          },
          "metadata": {
            "tags": [],
            "needs_background": "light"
          }
        }
      ]
    },
    {
      "cell_type": "code",
      "metadata": {
        "colab": {
          "base_uri": "https://localhost:8080/"
        },
        "id": "AoPBGPnL2WyS",
        "outputId": "2b123934-4ed9-4283-b5db-a32be9587b6c"
      },
      "source": [
        "df['Daily Returns'].kurtosis()"
      ],
      "execution_count": 63,
      "outputs": [
        {
          "output_type": "execute_result",
          "data": {
            "text/plain": [
              "4.665811691285164"
            ]
          },
          "metadata": {
            "tags": []
          },
          "execution_count": 63
        }
      ]
    }
  ]
}
