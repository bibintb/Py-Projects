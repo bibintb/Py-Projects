{
  "nbformat": 4,
  "nbformat_minor": 0,
  "metadata": {
    "colab": {
      "name": "Stock Analysis; Dated 25-01-2021.ipynb",
      "provenance": []
    },
    "kernelspec": {
      "name": "python3",
      "display_name": "Python 3"
    }
  },
  "cells": [
    {
      "cell_type": "code",
      "metadata": {
        "id": "1pKc7srOXbNu"
      },
      "source": [
        "import pandas as pd\r\n",
        "from matplotlib import pyplot as plt\r\n",
        "import seaborn as sns"
      ],
      "execution_count": 8,
      "outputs": []
    },
    {
      "cell_type": "code",
      "metadata": {
        "id": "rhEJWPRUXuvo"
      },
      "source": [
        "df = pd.read_csv('/content/PETRONET.NS.csv')"
      ],
      "execution_count": 20,
      "outputs": []
    },
    {
      "cell_type": "code",
      "metadata": {
        "colab": {
          "base_uri": "https://localhost:8080/",
          "height": 204
        },
        "id": "v-EV2asNcfAU",
        "outputId": "c59b59fd-2449-4a15-e3ea-f48bb1e8deda"
      },
      "source": [
        "df.head()"
      ],
      "execution_count": 21,
      "outputs": [
        {
          "output_type": "execute_result",
          "data": {
            "text/html": [
              "<div>\n",
              "<style scoped>\n",
              "    .dataframe tbody tr th:only-of-type {\n",
              "        vertical-align: middle;\n",
              "    }\n",
              "\n",
              "    .dataframe tbody tr th {\n",
              "        vertical-align: top;\n",
              "    }\n",
              "\n",
              "    .dataframe thead th {\n",
              "        text-align: right;\n",
              "    }\n",
              "</style>\n",
              "<table border=\"1\" class=\"dataframe\">\n",
              "  <thead>\n",
              "    <tr style=\"text-align: right;\">\n",
              "      <th></th>\n",
              "      <th>Date</th>\n",
              "      <th>Open</th>\n",
              "      <th>High</th>\n",
              "      <th>Low</th>\n",
              "      <th>Close</th>\n",
              "      <th>Adj Close</th>\n",
              "      <th>Volume</th>\n",
              "    </tr>\n",
              "  </thead>\n",
              "  <tbody>\n",
              "    <tr>\n",
              "      <th>0</th>\n",
              "      <td>2020-01-27</td>\n",
              "      <td>277.500000</td>\n",
              "      <td>277.950012</td>\n",
              "      <td>271.299988</td>\n",
              "      <td>272.299988</td>\n",
              "      <td>256.943115</td>\n",
              "      <td>2644351.0</td>\n",
              "    </tr>\n",
              "    <tr>\n",
              "      <th>1</th>\n",
              "      <td>2020-01-28</td>\n",
              "      <td>272.299988</td>\n",
              "      <td>275.500000</td>\n",
              "      <td>270.950012</td>\n",
              "      <td>273.299988</td>\n",
              "      <td>257.886749</td>\n",
              "      <td>1162509.0</td>\n",
              "    </tr>\n",
              "    <tr>\n",
              "      <th>2</th>\n",
              "      <td>2020-01-29</td>\n",
              "      <td>277.600006</td>\n",
              "      <td>277.600006</td>\n",
              "      <td>272.500000</td>\n",
              "      <td>273.850006</td>\n",
              "      <td>258.405731</td>\n",
              "      <td>1990054.0</td>\n",
              "    </tr>\n",
              "    <tr>\n",
              "      <th>3</th>\n",
              "      <td>2020-01-30</td>\n",
              "      <td>273.600006</td>\n",
              "      <td>276.450012</td>\n",
              "      <td>268.700012</td>\n",
              "      <td>269.649994</td>\n",
              "      <td>254.442596</td>\n",
              "      <td>1940696.0</td>\n",
              "    </tr>\n",
              "    <tr>\n",
              "      <th>4</th>\n",
              "      <td>2020-01-31</td>\n",
              "      <td>271.399994</td>\n",
              "      <td>273.250000</td>\n",
              "      <td>265.500000</td>\n",
              "      <td>266.500000</td>\n",
              "      <td>251.470261</td>\n",
              "      <td>2308304.0</td>\n",
              "    </tr>\n",
              "  </tbody>\n",
              "</table>\n",
              "</div>"
            ],
            "text/plain": [
              "         Date        Open        High  ...       Close   Adj Close     Volume\n",
              "0  2020-01-27  277.500000  277.950012  ...  272.299988  256.943115  2644351.0\n",
              "1  2020-01-28  272.299988  275.500000  ...  273.299988  257.886749  1162509.0\n",
              "2  2020-01-29  277.600006  277.600006  ...  273.850006  258.405731  1990054.0\n",
              "3  2020-01-30  273.600006  276.450012  ...  269.649994  254.442596  1940696.0\n",
              "4  2020-01-31  271.399994  273.250000  ...  266.500000  251.470261  2308304.0\n",
              "\n",
              "[5 rows x 7 columns]"
            ]
          },
          "metadata": {
            "tags": []
          },
          "execution_count": 21
        }
      ]
    },
    {
      "cell_type": "code",
      "metadata": {
        "id": "J-X5hom0exZ-"
      },
      "source": [
        "df['NEW VOLUME'] = df['Adj Close'] - df['Open']\r\n",
        "df['NEW VOLUME'] = df['NEW VOLUME']*.27\r\n",
        "df['NEW VOLUME 2'] = df['Open'] + df['NEW VOLUME']\r\n",
        "df['NEW VOLUME 3'] = df['High'] - df['NEW VOLUME 2']"
      ],
      "execution_count": 24,
      "outputs": []
    },
    {
      "cell_type": "code",
      "metadata": {
        "colab": {
          "base_uri": "https://localhost:8080/",
          "height": 606
        },
        "id": "6pF9YqPAdvh8",
        "outputId": "41e192ea-ff5c-4397-c47b-00f4f3ca2011"
      },
      "source": [
        "df"
      ],
      "execution_count": 25,
      "outputs": [
        {
          "output_type": "execute_result",
          "data": {
            "text/html": [
              "<div>\n",
              "<style scoped>\n",
              "    .dataframe tbody tr th:only-of-type {\n",
              "        vertical-align: middle;\n",
              "    }\n",
              "\n",
              "    .dataframe tbody tr th {\n",
              "        vertical-align: top;\n",
              "    }\n",
              "\n",
              "    .dataframe thead th {\n",
              "        text-align: right;\n",
              "    }\n",
              "</style>\n",
              "<table border=\"1\" class=\"dataframe\">\n",
              "  <thead>\n",
              "    <tr style=\"text-align: right;\">\n",
              "      <th></th>\n",
              "      <th>Date</th>\n",
              "      <th>Open</th>\n",
              "      <th>High</th>\n",
              "      <th>Low</th>\n",
              "      <th>Close</th>\n",
              "      <th>Adj Close</th>\n",
              "      <th>Volume</th>\n",
              "      <th>NEW VOLUME</th>\n",
              "      <th>NEW VOLUME 2</th>\n",
              "      <th>NEW VOLUME 3</th>\n",
              "    </tr>\n",
              "  </thead>\n",
              "  <tbody>\n",
              "    <tr>\n",
              "      <th>0</th>\n",
              "      <td>2020-01-27</td>\n",
              "      <td>277.500000</td>\n",
              "      <td>277.950012</td>\n",
              "      <td>271.299988</td>\n",
              "      <td>272.299988</td>\n",
              "      <td>256.943115</td>\n",
              "      <td>2644351.0</td>\n",
              "      <td>-5.550359</td>\n",
              "      <td>271.949641</td>\n",
              "      <td>6.000371</td>\n",
              "    </tr>\n",
              "    <tr>\n",
              "      <th>1</th>\n",
              "      <td>2020-01-28</td>\n",
              "      <td>272.299988</td>\n",
              "      <td>275.500000</td>\n",
              "      <td>270.950012</td>\n",
              "      <td>273.299988</td>\n",
              "      <td>257.886749</td>\n",
              "      <td>1162509.0</td>\n",
              "      <td>-3.891575</td>\n",
              "      <td>268.408413</td>\n",
              "      <td>7.091587</td>\n",
              "    </tr>\n",
              "    <tr>\n",
              "      <th>2</th>\n",
              "      <td>2020-01-29</td>\n",
              "      <td>277.600006</td>\n",
              "      <td>277.600006</td>\n",
              "      <td>272.500000</td>\n",
              "      <td>273.850006</td>\n",
              "      <td>258.405731</td>\n",
              "      <td>1990054.0</td>\n",
              "      <td>-5.182454</td>\n",
              "      <td>272.417552</td>\n",
              "      <td>5.182454</td>\n",
              "    </tr>\n",
              "    <tr>\n",
              "      <th>3</th>\n",
              "      <td>2020-01-30</td>\n",
              "      <td>273.600006</td>\n",
              "      <td>276.450012</td>\n",
              "      <td>268.700012</td>\n",
              "      <td>269.649994</td>\n",
              "      <td>254.442596</td>\n",
              "      <td>1940696.0</td>\n",
              "      <td>-5.172501</td>\n",
              "      <td>268.427505</td>\n",
              "      <td>8.022507</td>\n",
              "    </tr>\n",
              "    <tr>\n",
              "      <th>4</th>\n",
              "      <td>2020-01-31</td>\n",
              "      <td>271.399994</td>\n",
              "      <td>273.250000</td>\n",
              "      <td>265.500000</td>\n",
              "      <td>266.500000</td>\n",
              "      <td>251.470261</td>\n",
              "      <td>2308304.0</td>\n",
              "      <td>-5.381028</td>\n",
              "      <td>266.018966</td>\n",
              "      <td>7.231034</td>\n",
              "    </tr>\n",
              "    <tr>\n",
              "      <th>...</th>\n",
              "      <td>...</td>\n",
              "      <td>...</td>\n",
              "      <td>...</td>\n",
              "      <td>...</td>\n",
              "      <td>...</td>\n",
              "      <td>...</td>\n",
              "      <td>...</td>\n",
              "      <td>...</td>\n",
              "      <td>...</td>\n",
              "      <td>...</td>\n",
              "    </tr>\n",
              "    <tr>\n",
              "      <th>245</th>\n",
              "      <td>2021-01-19</td>\n",
              "      <td>245.550003</td>\n",
              "      <td>251.800003</td>\n",
              "      <td>245.550003</td>\n",
              "      <td>249.350006</td>\n",
              "      <td>249.350006</td>\n",
              "      <td>5124466.0</td>\n",
              "      <td>1.026001</td>\n",
              "      <td>246.576004</td>\n",
              "      <td>5.223999</td>\n",
              "    </tr>\n",
              "    <tr>\n",
              "      <th>246</th>\n",
              "      <td>2021-01-20</td>\n",
              "      <td>250.500000</td>\n",
              "      <td>251.750000</td>\n",
              "      <td>248.800003</td>\n",
              "      <td>249.500000</td>\n",
              "      <td>249.500000</td>\n",
              "      <td>2557305.0</td>\n",
              "      <td>-0.270000</td>\n",
              "      <td>250.230000</td>\n",
              "      <td>1.520000</td>\n",
              "    </tr>\n",
              "    <tr>\n",
              "      <th>247</th>\n",
              "      <td>2021-01-21</td>\n",
              "      <td>251.500000</td>\n",
              "      <td>253.149994</td>\n",
              "      <td>244.399994</td>\n",
              "      <td>245.850006</td>\n",
              "      <td>245.850006</td>\n",
              "      <td>4224234.0</td>\n",
              "      <td>-1.525498</td>\n",
              "      <td>249.974502</td>\n",
              "      <td>3.175492</td>\n",
              "    </tr>\n",
              "    <tr>\n",
              "      <th>248</th>\n",
              "      <td>2021-01-22</td>\n",
              "      <td>245.100006</td>\n",
              "      <td>245.899994</td>\n",
              "      <td>241.000000</td>\n",
              "      <td>241.399994</td>\n",
              "      <td>241.399994</td>\n",
              "      <td>4289402.0</td>\n",
              "      <td>-0.999003</td>\n",
              "      <td>244.101003</td>\n",
              "      <td>1.798991</td>\n",
              "    </tr>\n",
              "    <tr>\n",
              "      <th>249</th>\n",
              "      <td>2021-01-25</td>\n",
              "      <td>244.000000</td>\n",
              "      <td>244.300003</td>\n",
              "      <td>234.149994</td>\n",
              "      <td>241.899994</td>\n",
              "      <td>241.899994</td>\n",
              "      <td>5969440.0</td>\n",
              "      <td>-0.567002</td>\n",
              "      <td>243.432998</td>\n",
              "      <td>0.867005</td>\n",
              "    </tr>\n",
              "  </tbody>\n",
              "</table>\n",
              "<p>250 rows × 10 columns</p>\n",
              "</div>"
            ],
            "text/plain": [
              "           Date        Open        High  ...  NEW VOLUME  NEW VOLUME 2  NEW VOLUME 3\n",
              "0    2020-01-27  277.500000  277.950012  ...   -5.550359    271.949641      6.000371\n",
              "1    2020-01-28  272.299988  275.500000  ...   -3.891575    268.408413      7.091587\n",
              "2    2020-01-29  277.600006  277.600006  ...   -5.182454    272.417552      5.182454\n",
              "3    2020-01-30  273.600006  276.450012  ...   -5.172501    268.427505      8.022507\n",
              "4    2020-01-31  271.399994  273.250000  ...   -5.381028    266.018966      7.231034\n",
              "..          ...         ...         ...  ...         ...           ...           ...\n",
              "245  2021-01-19  245.550003  251.800003  ...    1.026001    246.576004      5.223999\n",
              "246  2021-01-20  250.500000  251.750000  ...   -0.270000    250.230000      1.520000\n",
              "247  2021-01-21  251.500000  253.149994  ...   -1.525498    249.974502      3.175492\n",
              "248  2021-01-22  245.100006  245.899994  ...   -0.999003    244.101003      1.798991\n",
              "249  2021-01-25  244.000000  244.300003  ...   -0.567002    243.432998      0.867005\n",
              "\n",
              "[250 rows x 10 columns]"
            ]
          },
          "metadata": {
            "tags": []
          },
          "execution_count": 25
        }
      ]
    },
    {
      "cell_type": "code",
      "metadata": {
        "colab": {
          "base_uri": "https://localhost:8080/",
          "height": 403
        },
        "id": "2lf0of1MfJFD",
        "outputId": "a13090e9-26a2-4d27-87f3-c4bed7e719a6"
      },
      "source": [
        "sns.lmplot(x='High', y='NEW VOLUME 2', data=df)"
      ],
      "execution_count": 26,
      "outputs": [
        {
          "output_type": "execute_result",
          "data": {
            "text/plain": [
              "<seaborn.axisgrid.FacetGrid at 0x7fcc2559a5c0>"
            ]
          },
          "metadata": {
            "tags": []
          },
          "execution_count": 26
        },
        {
          "output_type": "display_data",
          "data": {
            "image/png": "[encoded data removed]",
            "text/plain": [
              "<Figure size 360x360 with 1 Axes>"
            ]
          },
          "metadata": {
            "tags": [],
            "needs_background": "light"
          }
        }
      ]
    }
  ]
}