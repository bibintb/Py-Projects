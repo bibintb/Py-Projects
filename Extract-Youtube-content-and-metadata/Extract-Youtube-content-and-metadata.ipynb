{
  "nbformat": 4,
  "nbformat_minor": 0,
  "metadata": {
    "colab": {
      "name": "Extract YouTube content and metadata.ipynb",
      "provenance": []
    },
    "kernelspec": {
      "name": "python3",
      "display_name": "Python 3"
    },
    "language_info": {
      "name": "python"
    }
  },
  "cells": [
    {
      "cell_type": "code",
      "metadata": {
        "colab": {
          "base_uri": "https://localhost:8080/"
        },
        "id": "gsqjpGFmsM3R",
        "outputId": "6310a72f-31e1-4f8b-cb7e-ea75c394aa9f"
      },
      "source": [
        "!pip install --upgrade youtube-dl\n",
        "import youtube_dl\n",
        "!pip install pafy\n",
        "import pafy"
      ],
      "execution_count": null,
      "outputs": [
        {
          "output_type": "stream",
          "text": [
            "Requirement already up-to-date: youtube-dl in /usr/local/lib/python3.7/dist-packages (2021.4.26)\n",
            "Requirement already satisfied: pafy in /usr/local/lib/python3.7/dist-packages (0.5.5)\n"
          ],
          "name": "stdout"
        }
      ]
    },
    {
      "cell_type": "code",
      "metadata": {
        "id": "19XeuP6vlFQk"
      },
      "source": [
        "v = pafy.new('https://www.youtube.com/watch?v=pXkL7FF1-Co')"
      ],
      "execution_count": null,
      "outputs": []
    },
    {
      "cell_type": "code",
      "metadata": {
        "colab": {
          "base_uri": "https://localhost:8080/"
        },
        "id": "4MJNvM5htONg",
        "outputId": "6027f3c4-62bb-4bf7-b3f8-00c5796121ee"
      },
      "source": [
        "print('The title of the video: ', end='')\n",
        "print(v.title)\n",
        "print('The duration of the stream: ', end='')\n",
        "print(v.duration)\n",
        "print('The rating of the video (0-5): ', end='')\n",
        "print(v.rating)\n",
        "print('The author of the video: ',  end ='' ) \n",
        "print(v.author)\n",
        "print('The duration of the streams in seconds: ', end='')\n",
        "print(v.length)\n",
        "print('The url of the video’s thumbnail image: ', end='')\n",
        "print(v.thumb)\n",
        "print('The url of the video’s display image: ', end='')\n",
        "print(v.bigthumb)\n",
        "print('The url of the video’s display image HD: ', end='')\n",
        "print(v.bigthumbhd)\n",
        "print('The 11-character video id: ', end='')\n",
        "print(v.videoid)\n",
        "print('The viewcount of the video: ', end='')\n",
        "print(v.viewcount)\n",
        "print('The username of the uploader: ', end='')\n",
        "print(v.username)\n",
        "print('The category of the video: ', end='')\n",
        "print(v.category)\n",
        "print('The number of likes received for the video: ', end='')\n",
        "print(v.likes)\n",
        "print('The number of dislikes received for the video: ', end='')\n",
        "print(v.dislikes)\n",
        "print('A list of regular streams : ',end='') # Streams containing both audio and video\n",
        "print(v.streams)\n",
        "print('A list of video-only streams : ',end='') # These streams have no audio data\n",
        "print(v.videostreams)\n",
        "print('A list of audio-only streams: ',end='') # aac streams (.m4a) and ogg vorbis streams (.ogg) if available\n",
        "print(v.audiostreams)\n",
        "print('A list of all available streams: ',end='')\n",
        "print(v.allstreams)\n",
        "print('A list of aac encoded audio streams: ',end='')\n",
        "print(v.m4astreams)\n",
        "print('A list of ogg vorbis encoded audio streams: ', end='') # May be empty for some videos\n",
        "print(v.oggstreams)\n",
        "print('The username of the uploader: ',end='')\n",
        "print(v.username)\n",
        "print('Version: ',end='') # Check version\n",
        "print(v.version) \n",
        "print('Url of the video: ',end='')\n",
        "print(v.watchv_url)\n",
        "print(v.expiry)"
      ],
      "execution_count": null,
      "outputs": [
        {
          "output_type": "stream",
          "text": [
            "The title of the video: Wild Karnataka | Hindi Promo | Premieres tonight at 8 PM\n",
            "The duration of the stream: 00:00:40\n",
            "The rating of the video (0-5): 5.0\n",
            "The author of the video: Animal Planet India\n",
            "The duration of the streams in seconds: 40\n",
            "The url of the video’s thumbnail image: http://i.ytimg.com/vi/pXkL7FF1-Co/default.jpg\n",
            "The url of the video’s display image: http://i.ytimg.com/vi/pXkL7FF1-Co/mqdefault.jpg\n",
            "The url of the video’s display image HD: http://i.ytimg.com/vi/pXkL7FF1-Co/hqdefault.jpg\n",
            "The 11-character video id: pXkL7FF1-Co\n",
            "The viewcount of the video: 972\n",
            "The username of the uploader: AnimalPlanetIndia\n",
            "The category of the video: Pets & Animals\n",
            "The number of likes received for the video: 23\n",
            "The number of dislikes received for the video: 0\n",
            "A list of regular streams : [normal:mp4@640x360, normal:mp4@1280x720]\n",
            "A list of video-only streams : [video:webm@256x144, video:mp4@256x144, video:webm@426x240, video:mp4@426x240, video:webm@640x360, video:mp4@640x360, video:webm@854x480, video:mp4@854x480, video:webm@1280x720, video:mp4@1280x720, video:webm@1920x1080, video:mp4@1920x1080]\n",
            "A list of audio-only streams: [audio:m4a@0k, audio:webm@127.803k, audio:m4a@129.787k]\n",
            "A list of all available streams: [audio:m4a@0k, audio:webm@127.803k, audio:m4a@129.787k, video:webm@256x144, video:mp4@256x144, video:webm@426x240, video:mp4@426x240, video:webm@640x360, video:mp4@640x360, video:webm@854x480, video:mp4@854x480, video:webm@1280x720, video:mp4@1280x720, video:webm@1920x1080, video:mp4@1920x1080, normal:mp4@640x360, normal:mp4@1280x720]\n",
            "A list of aac encoded audio streams: [audio:m4a@0k, audio:m4a@129.787k]\n",
            "A list of ogg vorbis encoded audio streams: []\n",
            "The username of the uploader: AnimalPlanetIndia\n",
            "Version: 0.5.5\n",
            "Url of the video: http://www.youtube.com/watch?v=pXkL7FF1-Co\n",
            "1620183097.6476421\n"
          ],
          "name": "stdout"
        }
      ]
    },
    {
      "cell_type": "markdown",
      "metadata": {
        "id": "wHzhA9o19TR2"
      },
      "source": [
        "**The followings are not always available**  \n",
        "print(pafy.keywords) # Not always available  \n",
        "print(pafy.bigthumb) # Not always available  \n",
        "print(pafy.bigthumbhd) # Not always available \n",
        "\n",
        "\n",
        "The Pafy.getbest(), Pafy.getbestaudio() and Pafy.getbestvideo() methods are a quick way to access the highest quality streams for a particular video without needing to query the stream lists."
      ]
    },
    {
      "cell_type": "code",
      "metadata": {
        "colab": {
          "base_uri": "https://localhost:8080/"
        },
        "id": "diHWHWLXjkoj",
        "outputId": "fa55b6eb-65bf-4da8-c831-fbb8620bee0d"
      },
      "source": [
        "s = v.getbest()\n",
        "s.download() # starts download"
      ],
      "execution_count": null,
      "outputs": [
        {
          "output_type": "stream",
          "text": [
            "\n"
          ],
          "name": "stdout"
        }
      ]
    }
  ]
}
