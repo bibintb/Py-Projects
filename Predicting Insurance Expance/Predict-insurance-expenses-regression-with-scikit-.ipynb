{
 "cells": [
  {
   "cell_type": "markdown",
   "metadata": {},
   "source": [
    "# Regression using scikit-learn"
   ]
  },
  {
   "cell_type": "markdown",
   "metadata": {},
   "source": [
    "<a id=\"load_libraries\"></a>\n",
    "## Load libraries"
   ]
  },
  {
   "cell_type": "code",
   "execution_count": 5,
   "metadata": {},
   "outputs": [
    {
     "name": "stdout",
     "output_type": "stream",
     "text": [
      "/opt/conda/envs/Python-3.7-main/lib/python3.7/site-packages/secretstorage/dhcrypto.py:16: CryptographyDeprecationWarning: int_from_bytes is deprecated, use int.from_bytes instead\n",
      "  from cryptography.utils import int_from_bytes\n",
      "/opt/conda/envs/Python-3.7-main/lib/python3.7/site-packages/secretstorage/util.py:25: CryptographyDeprecationWarning: int_from_bytes is deprecated, use int.from_bytes instead\n",
      "  from cryptography.utils import int_from_bytes\n",
      "Requirement already up-to-date: scikit-learn in /opt/conda/envs/Python-3.7-main/lib/python3.7/site-packages (0.24.2)\n",
      "Requirement already satisfied, skipping upgrade: joblib>=0.11 in /opt/conda/envs/Python-3.7-main/lib/python3.7/site-packages (from scikit-learn) (0.16.0)\n",
      "Requirement already satisfied, skipping upgrade: threadpoolctl>=2.0.0 in /opt/conda/envs/Python-3.7-main/lib/python3.7/site-packages (from scikit-learn) (2.1.0)\n",
      "Requirement already satisfied, skipping upgrade: scipy>=0.19.1 in /opt/conda/envs/Python-3.7-main/lib/python3.7/site-packages (from scikit-learn) (1.5.0)\n",
      "Requirement already satisfied, skipping upgrade: numpy>=1.13.3 in /opt/conda/envs/Python-3.7-main/lib/python3.7/site-packages (from scikit-learn) (1.18.5)\n",
      "/opt/conda/envs/Python-3.7-main/lib/python3.7/site-packages/secretstorage/dhcrypto.py:16: CryptographyDeprecationWarning: int_from_bytes is deprecated, use int.from_bytes instead\n",
      "  from cryptography.utils import int_from_bytes\n",
      "/opt/conda/envs/Python-3.7-main/lib/python3.7/site-packages/secretstorage/util.py:25: CryptographyDeprecationWarning: int_from_bytes is deprecated, use int.from_bytes instead\n",
      "  from cryptography.utils import int_from_bytes\n",
      "Requirement already satisfied: pandas==0.24.2 in /opt/conda/envs/Python-3.7-main/lib/python3.7/site-packages (0.24.2)\n",
      "Requirement already satisfied: python-dateutil>=2.5.0 in /opt/conda/envs/Python-3.7-main/lib/python3.7/site-packages (from pandas==0.24.2) (2.8.1)\n",
      "Requirement already satisfied: pytz>=2011k in /opt/conda/envs/Python-3.7-main/lib/python3.7/site-packages (from pandas==0.24.2) (2020.1)\n",
      "Requirement already satisfied: numpy>=1.12.0 in /opt/conda/envs/Python-3.7-main/lib/python3.7/site-packages (from pandas==0.24.2) (1.18.5)\n",
      "Requirement already satisfied: six>=1.5 in /opt/conda/envs/Python-3.7-main/lib/python3.7/site-packages (from python-dateutil>=2.5.0->pandas==0.24.2) (1.15.0)\n",
      "/opt/conda/envs/Python-3.7-main/lib/python3.7/site-packages/secretstorage/dhcrypto.py:16: CryptographyDeprecationWarning: int_from_bytes is deprecated, use int.from_bytes instead\n",
      "  from cryptography.utils import int_from_bytes\n",
      "/opt/conda/envs/Python-3.7-main/lib/python3.7/site-packages/secretstorage/util.py:25: CryptographyDeprecationWarning: int_from_bytes is deprecated, use int.from_bytes instead\n",
      "  from cryptography.utils import int_from_bytes\n",
      "Requirement already satisfied: pandas_ml==0.6.1 in /home/wsuser/.local/lib/python3.7/site-packages (0.6.1)\n",
      "Requirement already satisfied: pandas>=0.19.0 in /opt/conda/envs/Python-3.7-main/lib/python3.7/site-packages (from pandas_ml==0.6.1) (0.24.2)\n",
      "Requirement already satisfied: enum34 in /home/wsuser/.local/lib/python3.7/site-packages (from pandas_ml==0.6.1) (1.1.10)\n",
      "Requirement already satisfied: python-dateutil>=2.5.0 in /opt/conda/envs/Python-3.7-main/lib/python3.7/site-packages (from pandas>=0.19.0->pandas_ml==0.6.1) (2.8.1)\n",
      "Requirement already satisfied: numpy>=1.12.0 in /opt/conda/envs/Python-3.7-main/lib/python3.7/site-packages (from pandas>=0.19.0->pandas_ml==0.6.1) (1.18.5)\n",
      "Requirement already satisfied: pytz>=2011k in /opt/conda/envs/Python-3.7-main/lib/python3.7/site-packages (from pandas>=0.19.0->pandas_ml==0.6.1) (2020.1)\n",
      "Requirement already satisfied: six>=1.5 in /opt/conda/envs/Python-3.7-main/lib/python3.7/site-packages (from python-dateutil>=2.5.0->pandas>=0.19.0->pandas_ml==0.6.1) (1.15.0)\n",
      "/opt/conda/envs/Python-3.7-main/lib/python3.7/site-packages/secretstorage/dhcrypto.py:16: CryptographyDeprecationWarning: int_from_bytes is deprecated, use int.from_bytes instead\n",
      "  from cryptography.utils import int_from_bytes\n",
      "/opt/conda/envs/Python-3.7-main/lib/python3.7/site-packages/secretstorage/util.py:25: CryptographyDeprecationWarning: int_from_bytes is deprecated, use int.from_bytes instead\n",
      "  from cryptography.utils import int_from_bytes\n",
      "Requirement already satisfied: matplotlib==3.1.0 in /opt/conda/envs/Python-3.7-main/lib/python3.7/site-packages (3.1.0)\n",
      "Requirement already satisfied: kiwisolver>=1.0.1 in /opt/conda/envs/Python-3.7-main/lib/python3.7/site-packages (from matplotlib==3.1.0) (1.2.0)\n",
      "Requirement already satisfied: pyparsing!=2.0.4,!=2.1.2,!=2.1.6,>=2.0.1 in /opt/conda/envs/Python-3.7-main/lib/python3.7/site-packages (from matplotlib==3.1.0) (2.4.7)\n",
      "Requirement already satisfied: python-dateutil>=2.1 in /opt/conda/envs/Python-3.7-main/lib/python3.7/site-packages (from matplotlib==3.1.0) (2.8.1)\n",
      "Requirement already satisfied: cycler>=0.10 in /opt/conda/envs/Python-3.7-main/lib/python3.7/site-packages (from matplotlib==3.1.0) (0.10.0)\n",
      "Requirement already satisfied: numpy>=1.11 in /opt/conda/envs/Python-3.7-main/lib/python3.7/site-packages (from matplotlib==3.1.0) (1.18.5)\n",
      "Requirement already satisfied: six>=1.5 in /opt/conda/envs/Python-3.7-main/lib/python3.7/site-packages (from python-dateutil>=2.1->matplotlib==3.1.0) (1.15.0)\n"
     ]
    }
   ],
   "source": [
    "!pip install -U scikit-learn\n",
    "!pip install pandas==0.24.2\n",
    "!pip install --user pandas_ml==0.6.1\n",
    "!pip install matplotlib==3.1.0"
   ]
  },
  {
   "cell_type": "code",
   "execution_count": 6,
   "metadata": {},
   "outputs": [],
   "source": [
    "import pandas as pd, numpy as np\n",
    "import sys\n",
    "import io"
   ]
  },
  {
   "cell_type": "markdown",
   "metadata": {},
   "source": [
    "<a id=\"load_data\"></a>\n",
    "## Load data"
   ]
  },
  {
   "cell_type": "code",
   "execution_count": 9,
   "metadata": {},
   "outputs": [
    {
     "data": {
      "text/html": [
       "<div>\n",
       "<style scoped>\n",
       "    .dataframe tbody tr th:only-of-type {\n",
       "        vertical-align: middle;\n",
       "    }\n",
       "\n",
       "    .dataframe tbody tr th {\n",
       "        vertical-align: top;\n",
       "    }\n",
       "\n",
       "    .dataframe thead th {\n",
       "        text-align: right;\n",
       "    }\n",
       "</style>\n",
       "<table border=\"1\" class=\"dataframe\">\n",
       "  <thead>\n",
       "    <tr style=\"text-align: right;\">\n",
       "      <th></th>\n",
       "      <th>age</th>\n",
       "      <th>sex</th>\n",
       "      <th>bmi</th>\n",
       "      <th>children</th>\n",
       "      <th>smoker</th>\n",
       "      <th>region</th>\n",
       "      <th>expenses</th>\n",
       "    </tr>\n",
       "  </thead>\n",
       "  <tbody>\n",
       "    <tr>\n",
       "      <th>0</th>\n",
       "      <td>19</td>\n",
       "      <td>female</td>\n",
       "      <td>27.9</td>\n",
       "      <td>0</td>\n",
       "      <td>yes</td>\n",
       "      <td>southwest</td>\n",
       "      <td>16884.92</td>\n",
       "    </tr>\n",
       "    <tr>\n",
       "      <th>1</th>\n",
       "      <td>18</td>\n",
       "      <td>male</td>\n",
       "      <td>33.8</td>\n",
       "      <td>1</td>\n",
       "      <td>no</td>\n",
       "      <td>southeast</td>\n",
       "      <td>1725.55</td>\n",
       "    </tr>\n",
       "    <tr>\n",
       "      <th>2</th>\n",
       "      <td>28</td>\n",
       "      <td>male</td>\n",
       "      <td>33.0</td>\n",
       "      <td>3</td>\n",
       "      <td>no</td>\n",
       "      <td>southeast</td>\n",
       "      <td>4449.46</td>\n",
       "    </tr>\n",
       "    <tr>\n",
       "      <th>3</th>\n",
       "      <td>33</td>\n",
       "      <td>male</td>\n",
       "      <td>22.7</td>\n",
       "      <td>0</td>\n",
       "      <td>no</td>\n",
       "      <td>northwest</td>\n",
       "      <td>21984.47</td>\n",
       "    </tr>\n",
       "    <tr>\n",
       "      <th>4</th>\n",
       "      <td>32</td>\n",
       "      <td>male</td>\n",
       "      <td>28.9</td>\n",
       "      <td>0</td>\n",
       "      <td>no</td>\n",
       "      <td>northwest</td>\n",
       "      <td>3866.86</td>\n",
       "    </tr>\n",
       "  </tbody>\n",
       "</table>\n",
       "</div>"
      ],
      "text/plain": [
       "   age     sex   bmi  children smoker     region  expenses\n",
       "0   19  female  27.9         0    yes  southwest  16884.92\n",
       "1   18    male  33.8         1     no  southeast   1725.55\n",
       "2   28    male  33.0         3     no  southeast   4449.46\n",
       "3   33    male  22.7         0     no  northwest  21984.47\n",
       "4   32    male  28.9         0     no  northwest   3866.86"
      ]
     },
     "execution_count": 9,
     "metadata": {},
     "output_type": "execute_result"
    }
   ],
   "source": [
    "# Place cursor below and insert the Pandas DataFrame for the Insurance Expense data\n",
    "import os, types\n",
    "import pandas as pd\n",
    "from botocore.client import Config\n",
    "import ibm_boto3\n",
    "\n",
    "def __iter__(self): return 0\n",
    "\n",
    "# @hidden_cell\n",
    "# The following code accesses a file in your IBM Cloud Object Storage. It includes your credentials.\n",
    "# You might want to remove those credentials before you share the notebook.\n",
    "\n",
    "if os.environ.get('RUNTIME_ENV_LOCATION_TYPE') == 'external':\n",
    "    endpoint_7f9f223fb97c47b1825f74f69691ee01 = 'https://s3.ap-geo.objectstorage.softlayer.net'\n",
    "else:\n",
    "    endpoint_7f9f223fb97c47b1825f74f69691ee01 = 'https://s3.ap-geo.objectstorage.service.networklayer.com'\n",
    "\n",
    "client_7f9f223fb97c47b1825f74f69691ee01 = ibm_boto3.client(service_name='s3',\n",
    "    ibm_api_key_id='9kL9FeL6AA8jD4h62vexXBPE0D15i4H6I-EgkuJkzcRb',\n",
    "    ibm_auth_endpoint=\"https://iam.cloud.ibm.com/oidc/token\",\n",
    "    config=Config(signature_version='oauth'),\n",
    "    endpoint_url=endpoint_7f9f223fb97c47b1825f74f69691ee01)\n",
    "\n",
    "body = client_7f9f223fb97c47b1825f74f69691ee01.get_object(Bucket='jumpstartyourjourney-donotdelete-pr-uxuydsi0s4ynks',Key='insurance.csv')['Body']\n",
    "# add missing __iter__ method, so pandas accepts body as file-like object\n",
    "if not hasattr(body, \"__iter__\"): body.__iter__ = types.MethodType( __iter__, body )\n",
    "\n",
    "df_data_3 = pd.read_csv(body)\n",
    "df_data_3.head()\n"
   ]
  },
  {
   "cell_type": "markdown",
   "metadata": {},
   "source": [
    "### Update the variable for our Pandas dataframe"
   ]
  },
  {
   "cell_type": "code",
   "execution_count": 10,
   "metadata": {},
   "outputs": [],
   "source": [
    "df_pd = df_data_3"
   ]
  },
  {
   "cell_type": "markdown",
   "metadata": {},
   "source": [
    "<a id=\"prepare_data\"></a>\n",
    "## Prepare data for building regression model"
   ]
  },
  {
   "cell_type": "markdown",
   "metadata": {},
   "source": [
    "### Explore data"
   ]
  },
  {
   "cell_type": "code",
   "execution_count": 11,
   "metadata": {},
   "outputs": [
    {
     "name": "stdout",
     "output_type": "stream",
     "text": [
      "The dataset contains columns of the following data types : \n",
      "age           int64\n",
      "sex          object\n",
      "bmi         float64\n",
      "children      int64\n",
      "smoker       object\n",
      "region       object\n",
      "expenses    float64\n",
      "dtype: object\n"
     ]
    }
   ],
   "source": [
    "print(\"The dataset contains columns of the following data types : \\n\" +str(df_pd.dtypes))"
   ]
  },
  {
   "cell_type": "code",
   "execution_count": 12,
   "metadata": {
    "scrolled": true
   },
   "outputs": [
    {
     "name": "stdout",
     "output_type": "stream",
     "text": [
      "The dataset contains following number of records for each of the columns : \n",
      "age         1338\n",
      "sex         1338\n",
      "bmi         1338\n",
      "children    1338\n",
      "smoker      1338\n",
      "region      1338\n",
      "expenses    1338\n",
      "dtype: int64\n"
     ]
    }
   ],
   "source": [
    "print(\"The dataset contains following number of records for each of the columns : \\n\" +str(df_pd.count()))"
   ]
  },
  {
   "cell_type": "code",
   "execution_count": 13,
   "metadata": {},
   "outputs": [
    {
     "data": {
      "text/plain": [
       "age         False\n",
       "sex         False\n",
       "bmi         False\n",
       "children    False\n",
       "smoker      False\n",
       "region      False\n",
       "expenses    False\n",
       "dtype: bool"
      ]
     },
     "execution_count": 13,
     "metadata": {},
     "output_type": "execute_result"
    }
   ],
   "source": [
    "df_pd.isnull().any()"
   ]
  },
  {
   "cell_type": "markdown",
   "metadata": {},
   "source": [
    "### Prepare categorical columns"
   ]
  },
  {
   "cell_type": "code",
   "execution_count": 14,
   "metadata": {},
   "outputs": [
    {
     "name": "stdout",
     "output_type": "stream",
     "text": [
      "Categorical columns : \n",
      "Index(['sex', 'smoker', 'region'], dtype='object')\n"
     ]
    }
   ],
   "source": [
    "# Defining the categorical columns \n",
    "categoricalColumns = df_pd.select_dtypes(include=[np.object]).columns\n",
    "\n",
    "print(\"Categorical columns : \" )\n",
    "print(categoricalColumns)"
   ]
  },
  {
   "cell_type": "markdown",
   "metadata": {},
   "source": [
    "Categories needed to be indexed, which means the string labels are converted to indices or numbers. These label indices are encoded using One-hot encoding to a binary vector with at most a single one-value indicating the presence of a specific feature value from among the set of all feature values. This encoding allows algorithms which expect continuous features to use categorical features. We use the **OneHotEncoder** method from the *sklearn.preprocessing* library to implement this. "
   ]
  },
  {
   "cell_type": "code",
   "execution_count": 15,
   "metadata": {},
   "outputs": [],
   "source": [
    "from sklearn.preprocessing import OneHotEncoder\n",
    "\n",
    "onehot_categorical =  OneHotEncoder(handle_unknown='ignore')"
   ]
  },
  {
   "cell_type": "markdown",
   "metadata": {},
   "source": [
    "We use the *SimpleImputer* method as an imputation transformer for completing missing values. Note that since this dataset has no missing values it will not have an impact for this example. We however show this to explain how values can be imputed using sklearn."
   ]
  },
  {
   "cell_type": "code",
   "execution_count": 16,
   "metadata": {},
   "outputs": [],
   "source": [
    "from sklearn.impute import SimpleImputer\n",
    "\n",
    "impute_categorical = SimpleImputer(strategy=\"most_frequent\")"
   ]
  },
  {
   "cell_type": "markdown",
   "metadata": {},
   "source": [
    "scikit-learn offers an API to sequentially apply a list of transforms and a final estimator - *sklearn.pipeline.Pipeline*. We create a pipeline and assemble the transformations we intend to apply on the categorical columns as shown below. "
   ]
  },
  {
   "cell_type": "code",
   "execution_count": 17,
   "metadata": {},
   "outputs": [],
   "source": [
    "from sklearn.pipeline import Pipeline\n",
    "\n",
    "categorical_transformer = Pipeline(steps=[('impute',impute_categorical),('onehot',onehot_categorical)])"
   ]
  },
  {
   "cell_type": "markdown",
   "metadata": {},
   "source": [
    "Intermediate steps of the pipeline must be ‘transforms’, that is, they must implement fit and transform methods. We define a *ColumnTransformer* and pass the pipeline we create in the cell above along with the column list we defined as well. "
   ]
  },
  {
   "cell_type": "code",
   "execution_count": 18,
   "metadata": {},
   "outputs": [],
   "source": [
    "from sklearn.compose import ColumnTransformer\n",
    "\n",
    "preprocessorForCategoricalColumns = ColumnTransformer(transformers=[('cat', categorical_transformer, categoricalColumns)],\n",
    "                                            remainder=\"passthrough\")"
   ]
  },
  {
   "cell_type": "markdown",
   "metadata": {},
   "source": [
    "The transformation happens in the pipeline. We explicitly run the cell below to show what intermediate value looks like"
   ]
  },
  {
   "cell_type": "code",
   "execution_count": 19,
   "metadata": {},
   "outputs": [
    {
     "name": "stdout",
     "output_type": "stream",
     "text": [
      "Categorical Data after transforming :\n",
      "[[1.000000e+00 0.000000e+00 0.000000e+00 ... 2.790000e+01 0.000000e+00\n",
      "  1.688492e+04]\n",
      " [0.000000e+00 1.000000e+00 1.000000e+00 ... 3.380000e+01 1.000000e+00\n",
      "  1.725550e+03]\n",
      " [0.000000e+00 1.000000e+00 1.000000e+00 ... 3.300000e+01 3.000000e+00\n",
      "  4.449460e+03]\n",
      " ...\n",
      " [1.000000e+00 0.000000e+00 1.000000e+00 ... 3.690000e+01 0.000000e+00\n",
      "  1.629830e+03]\n",
      " [1.000000e+00 0.000000e+00 1.000000e+00 ... 2.580000e+01 0.000000e+00\n",
      "  2.007950e+03]\n",
      " [1.000000e+00 0.000000e+00 0.000000e+00 ... 2.910000e+01 0.000000e+00\n",
      "  2.914136e+04]]\n"
     ]
    }
   ],
   "source": [
    "df_pd_temp = preprocessorForCategoricalColumns.fit_transform(df_pd)\n",
    "print(\"Categorical Data after transforming :\")\n",
    "print(df_pd_temp)"
   ]
  },
  {
   "cell_type": "markdown",
   "metadata": {},
   "source": [
    "### Prepare numerical columns\n",
    "\n",
    "During this process, we identify numerical columns in the dataset."
   ]
  },
  {
   "cell_type": "code",
   "execution_count": 20,
   "metadata": {},
   "outputs": [
    {
     "name": "stdout",
     "output_type": "stream",
     "text": [
      "Numerical columns : \n",
      "['age', 'bmi', 'children']\n"
     ]
    }
   ],
   "source": [
    "# Defining the numerical columns \n",
    "numericalColumns = [col for col in df_pd.select_dtypes(include=[np.float,np.int]).columns if col not in ['expenses']]\n",
    "\n",
    "print(\"Numerical columns : \" )\n",
    "print(numericalColumns)"
   ]
  },
  {
   "cell_type": "markdown",
   "metadata": {},
   "source": [
    "Following cell uses *StandardScaler* method from the the *sklearn.preprocessing* API.  Standardization of numerical fields refer to the process of removing the mean and scaling to unit variance. "
   ]
  },
  {
   "cell_type": "code",
   "execution_count": 21,
   "metadata": {},
   "outputs": [],
   "source": [
    "from sklearn.preprocessing import StandardScaler\n",
    "\n",
    "scaler_numerical = StandardScaler()"
   ]
  },
  {
   "cell_type": "markdown",
   "metadata": {},
   "source": [
    "The three cells below show, assembling the steps in the pipeline and creating a column transformers. The steps are very similar to section 3.2 shown above. "
   ]
  },
  {
   "cell_type": "code",
   "execution_count": 22,
   "metadata": {},
   "outputs": [],
   "source": [
    "numerical_transformer = Pipeline(steps=[('scale',scaler_numerical)])"
   ]
  },
  {
   "cell_type": "code",
   "execution_count": 23,
   "metadata": {},
   "outputs": [],
   "source": [
    "preprocessorForAllColumns = ColumnTransformer(transformers=[('cat', categorical_transformer, categoricalColumns),('num',numerical_transformer,numericalColumns)],\n",
    "                                            remainder=\"passthrough\")"
   ]
  },
  {
   "cell_type": "code",
   "execution_count": 24,
   "metadata": {},
   "outputs": [
    {
     "name": "stdout",
     "output_type": "stream",
     "text": [
      "Data after transforming :\n",
      "[[ 1.00000000e+00  0.00000000e+00  0.00000000e+00 ... -4.53645701e-01\n",
      "  -9.08613667e-01  1.68849200e+04]\n",
      " [ 0.00000000e+00  1.00000000e+00  1.00000000e+00 ...  5.14185739e-01\n",
      "  -7.87671916e-02  1.72555000e+03]\n",
      " [ 0.00000000e+00  1.00000000e+00  1.00000000e+00 ...  3.82954357e-01\n",
      "   1.58092576e+00  4.44946000e+03]\n",
      " ...\n",
      " [ 1.00000000e+00  0.00000000e+00  1.00000000e+00 ...  1.02270734e+00\n",
      "  -9.08613667e-01  1.62983000e+03]\n",
      " [ 1.00000000e+00  0.00000000e+00  1.00000000e+00 ... -7.98128079e-01\n",
      "  -9.08613667e-01  2.00795000e+03]\n",
      " [ 1.00000000e+00  0.00000000e+00  0.00000000e+00 ... -2.56798629e-01\n",
      "  -9.08613667e-01  2.91413600e+04]]\n"
     ]
    }
   ],
   "source": [
    "df_pd_temp_2 = preprocessorForAllColumns.fit_transform(df_pd)\n",
    "print(\"Data after transforming :\")\n",
    "print(df_pd_temp_2)"
   ]
  },
  {
   "cell_type": "markdown",
   "metadata": {},
   "source": [
    "### Prepare data frame for splitting data into train and test datasets\n",
    "\n",
    "We first divide the dataframe into *features* - that will contain the input columns that will be used to predict the final value. "
   ]
  },
  {
   "cell_type": "code",
   "execution_count": 25,
   "metadata": {
    "scrolled": true
   },
   "outputs": [
    {
     "name": "stdout",
     "output_type": "stream",
     "text": [
      "value of features :       age     sex   bmi  children smoker     region\n",
      "0      19  female  27.9         0    yes  southwest\n",
      "1      18    male  33.8         1     no  southeast\n",
      "2      28    male  33.0         3     no  southeast\n",
      "3      33    male  22.7         0     no  northwest\n",
      "4      32    male  28.9         0     no  northwest\n",
      "5      31  female  25.7         0     no  southeast\n",
      "6      46  female  33.4         1     no  southeast\n",
      "7      37  female  27.7         3     no  northwest\n",
      "8      37    male  29.8         2     no  northeast\n",
      "9      60  female  25.8         0     no  northwest\n",
      "10     25    male  26.2         0     no  northeast\n",
      "11     62  female  26.3         0    yes  southeast\n",
      "12     23    male  34.4         0     no  southwest\n",
      "13     56  female  39.8         0     no  southeast\n",
      "14     27    male  42.1         0    yes  southeast\n",
      "15     19    male  24.6         1     no  southwest\n",
      "16     52  female  30.8         1     no  northeast\n",
      "17     23    male  23.8         0     no  northeast\n",
      "18     56    male  40.3         0     no  southwest\n",
      "19     30    male  35.3         0    yes  southwest\n",
      "20     60  female  36.0         0     no  northeast\n",
      "21     30  female  32.4         1     no  southwest\n",
      "22     18    male  34.1         0     no  southeast\n",
      "23     34  female  31.9         1    yes  northeast\n",
      "24     37    male  28.0         2     no  northwest\n",
      "25     59  female  27.7         3     no  southeast\n",
      "26     63  female  23.1         0     no  northeast\n",
      "27     55  female  32.8         2     no  northwest\n",
      "28     23    male  17.4         1     no  northwest\n",
      "29     31    male  36.3         2    yes  southwest\n",
      "...   ...     ...   ...       ...    ...        ...\n",
      "1308   25  female  30.2         0    yes  southwest\n",
      "1309   41    male  32.2         2     no  southwest\n",
      "1310   42    male  26.3         1     no  northwest\n",
      "1311   33  female  26.7         0     no  northwest\n",
      "1312   34    male  42.9         1     no  southwest\n",
      "1313   19  female  34.7         2    yes  southwest\n",
      "1314   30  female  23.7         3    yes  northwest\n",
      "1315   18    male  28.3         1     no  northeast\n",
      "1316   19  female  20.6         0     no  southwest\n",
      "1317   18    male  53.1         0     no  southeast\n",
      "1318   35    male  39.7         4     no  northeast\n",
      "1319   39  female  26.3         2     no  northwest\n",
      "1320   31    male  31.1         3     no  northwest\n",
      "1321   62    male  26.7         0    yes  northeast\n",
      "1322   62    male  38.8         0     no  southeast\n",
      "1323   42  female  40.4         2    yes  southeast\n",
      "1324   31    male  25.9         1     no  northwest\n",
      "1325   61    male  33.5         0     no  northeast\n",
      "1326   42  female  32.9         0     no  northeast\n",
      "1327   51    male  30.0         1     no  southeast\n",
      "1328   23  female  24.2         2     no  northeast\n",
      "1329   52    male  38.6         2     no  southwest\n",
      "1330   57  female  25.7         2     no  southeast\n",
      "1331   23  female  33.4         0     no  southwest\n",
      "1332   52  female  44.7         3     no  southwest\n",
      "1333   50    male  31.0         3     no  northwest\n",
      "1334   18  female  31.9         0     no  northeast\n",
      "1335   18  female  36.9         0     no  southeast\n",
      "1336   21  female  25.8         0     no  southwest\n",
      "1337   61  female  29.1         0    yes  northwest\n",
      "\n",
      "[1338 rows x 6 columns]\n"
     ]
    }
   ],
   "source": [
    "features = []\n",
    "features = df_pd.drop(['expenses'], axis=1)\n",
    "print('value of features : ' + str(features))"
   ]
  },
  {
   "cell_type": "markdown",
   "metadata": {},
   "source": [
    "We then separate the column to predicted and mark it as the *label*"
   ]
  },
  {
   "cell_type": "code",
   "execution_count": 26,
   "metadata": {},
   "outputs": [
    {
     "name": "stdout",
     "output_type": "stream",
     "text": [
      " value of label : 0       16884.92\n",
      "1        1725.55\n",
      "2        4449.46\n",
      "3       21984.47\n",
      "4        3866.86\n",
      "5        3756.62\n",
      "6        8240.59\n",
      "7        7281.51\n",
      "8        6406.41\n",
      "9       28923.14\n",
      "10       2721.32\n",
      "11      27808.73\n",
      "12       1826.84\n",
      "13      11090.72\n",
      "14      39611.76\n",
      "15       1837.24\n",
      "16      10797.34\n",
      "17       2395.17\n",
      "18      10602.39\n",
      "19      36837.47\n",
      "20      13228.85\n",
      "21       4149.74\n",
      "22       1137.01\n",
      "23      37701.88\n",
      "24       6203.90\n",
      "25      14001.13\n",
      "26      14451.84\n",
      "27      12268.63\n",
      "28       2775.19\n",
      "29      38711.00\n",
      "          ...   \n",
      "1308    33900.65\n",
      "1309     6875.96\n",
      "1310     6940.91\n",
      "1311     4571.41\n",
      "1312     4536.26\n",
      "1313    36397.58\n",
      "1314    18765.88\n",
      "1315    11272.33\n",
      "1316     1731.68\n",
      "1317     1163.46\n",
      "1318    19496.72\n",
      "1319     7201.70\n",
      "1320     5425.02\n",
      "1321    28101.33\n",
      "1322    12981.35\n",
      "1323    43896.38\n",
      "1324     4239.89\n",
      "1325    13143.34\n",
      "1326     7050.02\n",
      "1327     9377.90\n",
      "1328    22395.74\n",
      "1329    10325.21\n",
      "1330    12629.17\n",
      "1331    10795.94\n",
      "1332    11411.69\n",
      "1333    10600.55\n",
      "1334     2205.98\n",
      "1335     1629.83\n",
      "1336     2007.95\n",
      "1337    29141.36\n",
      "Name: expenses, Length: 1338, dtype: float64\n"
     ]
    }
   ],
   "source": [
    "label = pd.DataFrame(df_pd, columns = ['expenses']) \n",
    "label = df_pd['expenses']\n",
    "\n",
    "print(\" value of label : \" + str(label))"
   ]
  },
  {
   "cell_type": "markdown",
   "metadata": {},
   "source": [
    "Now we will use *train_test_split* to split the feature and label dataframes into random train and test subsets. Unless explicit parameters are passed, the default is to split the dataset into 75% for training and 25% for testing. "
   ]
  },
  {
   "cell_type": "code",
   "execution_count": 27,
   "metadata": {},
   "outputs": [
    {
     "name": "stdout",
     "output_type": "stream",
     "text": [
      "Dimensions of datasets that will be used for training : Input features(1003, 6) Output label(1003,)\n",
      "Dimensions of datasets that will be used for testing : Input features(335, 6) Output label(335,)\n"
     ]
    }
   ],
   "source": [
    "from sklearn.model_selection import train_test_split\n",
    "\n",
    "X_train, X_test, y_train, y_test = train_test_split(features,label , random_state=0)\n",
    "\n",
    "print(\"Dimensions of datasets that will be used for training : Input features\"+str(X_train.shape)+ \n",
    "      \" Output label\" + str(y_train.shape))\n",
    "print(\"Dimensions of datasets that will be used for testing : Input features\"+str(X_test.shape)+ \n",
    "      \" Output label\" + str(y_test.shape))"
   ]
  },
  {
   "cell_type": "markdown",
   "metadata": {},
   "source": [
    "<a id=\"model_lrc\"></a>\n",
    "## Build and test a multiple linear regression model"
   ]
  },
  {
   "cell_type": "markdown",
   "metadata": {},
   "source": [
    "### Define linear regression model "
   ]
  },
  {
   "cell_type": "markdown",
   "metadata": {},
   "source": [
    "The cell below shows how to define a linear regression model using skleanr's *LinearRegression* method. "
   ]
  },
  {
   "cell_type": "code",
   "execution_count": 28,
   "metadata": {
    "scrolled": true
   },
   "outputs": [],
   "source": [
    "from sklearn.linear_model import LinearRegression\n",
    "\n",
    "model_name = 'Multiple Linear Regression'\n",
    "\n",
    "mlRegressor = LinearRegression()"
   ]
  },
  {
   "cell_type": "markdown",
   "metadata": {},
   "source": [
    "We then add the model defined above to the pipeline which will be executed in the next cell."
   ]
  },
  {
   "cell_type": "code",
   "execution_count": 29,
   "metadata": {},
   "outputs": [],
   "source": [
    "mlr_model = Pipeline(steps=[('preprocessorAll',preprocessorForAllColumns),('regressor', mlRegressor)])"
   ]
  },
  {
   "cell_type": "markdown",
   "metadata": {},
   "source": [
    "### Fit linear regression model\n",
    "\n",
    "We will now fit this linear model by passing in the train data obtained from the section above. This essentially runs the sequence of steps defined in the pipeline. "
   ]
  },
  {
   "cell_type": "code",
   "execution_count": 30,
   "metadata": {},
   "outputs": [
    {
     "data": {
      "text/plain": [
       "Pipeline(steps=[('preprocessorAll',\n",
       "                 ColumnTransformer(remainder='passthrough',\n",
       "                                   transformers=[('cat',\n",
       "                                                  Pipeline(steps=[('impute',\n",
       "                                                                   SimpleImputer(strategy='most_frequent')),\n",
       "                                                                  ('onehot',\n",
       "                                                                   OneHotEncoder(handle_unknown='ignore'))]),\n",
       "                                                  Index(['sex', 'smoker', 'region'], dtype='object')),\n",
       "                                                 ('num',\n",
       "                                                  Pipeline(steps=[('scale',\n",
       "                                                                   StandardScaler())]),\n",
       "                                                  ['age', 'bmi',\n",
       "                                                   'children'])])),\n",
       "                ('regressor', LinearRegression())])"
      ]
     },
     "execution_count": 30,
     "metadata": {},
     "output_type": "execute_result"
    }
   ],
   "source": [
    "mlr_model.fit(X_train,y_train)"
   ]
  },
  {
   "cell_type": "markdown",
   "metadata": {},
   "source": [
    "### Predict insurance price using multiple linear regression model\n",
    "\n",
    "Now, its time to run our prediction on the model trained above. We do this by calling the *predict* method and passing the test features dataset. The output obtained is stored in an array marked as *y_pred_mlr*. "
   ]
  },
  {
   "cell_type": "code",
   "execution_count": 31,
   "metadata": {},
   "outputs": [],
   "source": [
    "y_pred_mlr= mlr_model.predict(X_test)"
   ]
  },
  {
   "cell_type": "markdown",
   "metadata": {},
   "source": [
    "### Evaluate multiple linear regression model\n",
    "\n",
    "The next few cells show how to quantify the quality of the predictions"
   ]
  },
  {
   "cell_type": "markdown",
   "metadata": {},
   "source": [
    "Following are example attributes can be used to analyze the model performance. \n",
    "\n",
    "**intercept_** float or array of shape (n_targets,)\n",
    "Independent term in the linear model. Set to 0.0 if fit_intercept = False.\n",
    "\n",
    "**coef_** array of shape (n_features, ) or (n_targets, n_features)\n",
    "Estimated coefficients for the linear regression problem. If multiple targets are passed during the fit (y 2D), this is a 2D array of shape (n_targets, n_features), while if only one target is passed, this is a 1D array of length n_features."
   ]
  },
  {
   "cell_type": "code",
   "execution_count": 32,
   "metadata": {},
   "outputs": [
    {
     "name": "stdout",
     "output_type": "stream",
     "text": [
      "LinearRegression()\n",
      "Intercept: \n",
      " 20289.73158881921\n",
      "Coefficients: \n",
      " [-6.46638616e+00  6.46638616e+00 -1.18279133e+04  1.18279133e+04\n",
      "  5.35327769e+02  3.42635219e+02 -5.45477289e+02 -3.32485698e+02\n",
      "  3.51503996e+03  2.07709311e+03  5.33995199e+02]\n"
     ]
    }
   ],
   "source": [
    "print(mlRegressor)\n",
    "print('Intercept: \\n',mlRegressor.intercept_)\n",
    "print('Coefficients: \\n', mlRegressor.coef_)"
   ]
  },
  {
   "cell_type": "markdown",
   "metadata": {},
   "source": [
    "There are several methods that [sklearn.metrics](https://scikit-learn.org/stable/modules/model_evaluation.html) API offers us. We will now look at the *explained_variance_score* and the *mean_squared_error* method here as an example."
   ]
  },
  {
   "cell_type": "code",
   "execution_count": 33,
   "metadata": {},
   "outputs": [],
   "source": [
    "from sklearn.metrics import explained_variance_score,mean_squared_error\n",
    "\n",
    "def model_metrics(regressor,y_test,y_pred):\n",
    "    mse = mean_squared_error(y_test,y_pred)\n",
    "    print(\"Mean squared error: %.2f\"\n",
    "      % mse)\n",
    "    \n",
    "    e_v_s = explained_variance_score(y_test, y_pred)\n",
    "    print('Explained variance score: %.2f' % e_v_s )\n",
    "    return [mse, e_v_s]"
   ]
  },
  {
   "cell_type": "markdown",
   "metadata": {},
   "source": [
    "For explained variance, the best possible score is 1.0, lower values are worse."
   ]
  },
  {
   "cell_type": "code",
   "execution_count": 34,
   "metadata": {},
   "outputs": [
    {
     "name": "stdout",
     "output_type": "stream",
     "text": [
      "Mean squared error: 32130791.64\n",
      "Explained variance score: 0.80\n"
     ]
    }
   ],
   "source": [
    "mlrMetrics = model_metrics(mlRegressor,y_test,y_pred_mlr)"
   ]
  },
  {
   "cell_type": "markdown",
   "metadata": {},
   "source": [
    "Finally, we use *matplotlib* to visualize the actual vs predicted values of the insurance charges. "
   ]
  },
  {
   "cell_type": "code",
   "execution_count": 35,
   "metadata": {},
   "outputs": [],
   "source": [
    "import matplotlib.pyplot as plt\n",
    "from sklearn.metrics import r2_score \n",
    "\n",
    "def two_d_compare(X_test,y_test,y_pred,model_name):\n",
    "    area = (12 * np.random.rand(40))**2 \n",
    "    plt.subplots(ncols=2, figsize=(10,4))\n",
    "    plt.suptitle('Actual vs Predicted data : ' +model_name + '. Variance score: %.2f' % r2_score(y_test, y_pred))\n",
    "\n",
    "    plt.subplot(121)\n",
    "    plt.scatter(X_test, y_test, alpha=0.8, color='#8CCB9B')\n",
    "    plt.title('Actual')\n",
    "\n",
    "    plt.subplot(122)\n",
    "    plt.scatter(X_test, y_pred,alpha=0.8, color='#E5E88B')\n",
    "    plt.title('Predicted')\n",
    "\n",
    "    plt.show()\n",
    "    "
   ]
  },
  {
   "cell_type": "code",
   "execution_count": 36,
   "metadata": {},
   "outputs": [
    {
     "data": {
      "image/png": "[encoded data removed]",
      "text/plain": [
       "<Figure size 720x288 with 2 Axes>"
      ]
     },
     "metadata": {
      "needs_background": "light"
     },
     "output_type": "display_data"
    }
   ],
   "source": [
    "two_d_compare(X_test['bmi'],y_test,y_pred_mlr,model_name)"
   ]
  }
 ],
 "metadata": {
  "celltoolbar": "Raw Cell Format",
  "kernelspec": {
   "display_name": "Python 3",
   "language": "python",
   "name": "python3"
  },
  "language_info": {
   "codemirror_mode": {
    "name": "ipython",
    "version": 3
   },
   "file_extension": ".py",
   "mimetype": "text/x-python",
   "name": "python",
   "nbconvert_exporter": "python",
   "pygments_lexer": "ipython3",
   "version": "3.8.5"
  }
 },
 "nbformat": 4,
 "nbformat_minor": 2
}
