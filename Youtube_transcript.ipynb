{
  "nbformat": 4,
  "nbformat_minor": 0,
  "metadata": {
    "colab": {
      "provenance": [],
      "authorship_tag": "ABX9TyOTovfQlkZf+xbDTiTVfnQw",
      "include_colab_link": true
    },
    "kernelspec": {
      "name": "python3",
      "display_name": "Python 3"
    },
    "language_info": {
      "name": "python"
    }
  },
  "cells": [
    {
      "cell_type": "markdown",
      "metadata": {
        "id": "view-in-github",
        "colab_type": "text"
      },
      "source": [
        "<a href=\"https://colab.research.google.com/github/bibintb/Py-Projects/blob/main/Youtube_transcript.ipynb\" target=\"_parent\"><img src=\"https://colab.research.google.com/assets/colab-badge.svg\" alt=\"Open In Colab\"/></a>"
      ]
    },
    {
      "cell_type": "code",
      "execution_count": 2,
      "metadata": {
        "colab": {
          "base_uri": "https://localhost:8080/"
        },
        "id": "vvsPFUH5BVde",
        "outputId": "09069bac-283b-444b-a465-bca011f47342"
      },
      "outputs": [
        {
          "name": "stdout",
          "output_type": "stream",
          "text": [
            "Looking in indexes: https://pypi.org/simple, https://us-python.pkg.dev/colab-wheels/public/simple/\n",
            "Requirement already satisfied: youtube-transcript-api in /usr/local/lib/python3.9/dist-packages (0.6.0)\n",
            "Requirement already satisfied: requests in /usr/local/lib/python3.9/dist-packages (from youtube-transcript-api) (2.27.1)\n",
            "Requirement already satisfied: idna<4,>=2.5 in /usr/local/lib/python3.9/dist-packages (from requests->youtube-transcript-api) (3.4)\n",
            "Requirement already satisfied: charset-normalizer~=2.0.0 in /usr/local/lib/python3.9/dist-packages (from requests->youtube-transcript-api) (2.0.12)\n",
            "Requirement already satisfied: urllib3<1.27,>=1.21.1 in /usr/local/lib/python3.9/dist-packages (from requests->youtube-transcript-api) (1.26.15)\n",
            "Requirement already satisfied: certifi>=2017.4.17 in /usr/local/lib/python3.9/dist-packages (from requests->youtube-transcript-api) (2022.12.7)\n",
            "Enter the YouTube video ID or URL: a906b80lCE8\n"
          ]
        }
      ],
      "source": [
        "!pip install youtube-transcript-api\n",
        "from youtube_transcript_api import YouTubeTranscriptApi\n",
        "\n",
        "# Enter the YouTube video ID or URL\n",
        "video_id = input(\"Enter the YouTube video ID or URL: \")\n",
        "\n",
        "# Get the transcript for the video\n",
        "transcript = YouTubeTranscriptApi.get_transcript(video_id)\n",
        "\n",
        "# Write the transcript to a file\n",
        "with open('transcript.txt', 'w') as file:\n",
        "    for line in transcript:\n",
        "        file.write(line['text'] + '\\n')\n"
      ]
    }
  ]
}