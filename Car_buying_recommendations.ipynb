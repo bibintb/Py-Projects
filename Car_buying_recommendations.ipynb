{
  "nbformat": 4,
  "nbformat_minor": 0,
  "metadata": {
    "colab": {
      "provenance": [],
      "authorship_tag": "ABX9TyOVBAA/Jps2H1LMnUjdtnXQ"
    },
    "kernelspec": {
      "name": "python3",
      "display_name": "Python 3"
    },
    "language_info": {
      "name": "python"
    }
  },
  "cells": [
    {
      "cell_type": "code",
      "source": [
        "import pandas as pd\n",
        "\n",
        "# Load the car evaluation dataset\n",
        "car_data = pd.read_csv('https://archive.ics.uci.edu/ml/machine-learning-databases/car/car.data', header=None, names=['buying', 'maint', 'doors', 'persons', 'lug_boot', 'safety', 'class'])\n",
        "\n",
        "# Define the recommended car function\n",
        "def recommend_car(budget, doors, capacity, safety):\n",
        "    # Filter cars based on user input\n",
        "    filtered_cars = car_data[(car_data['buying'] == budget) & (car_data['doors'] == doors) & (car_data['persons'] == capacity) & (car_data['safety'] == safety)]\n",
        "    # Return the recommended cars\n",
        "    return filtered_cars[['buying', 'maint', 'doors', 'persons', 'lug_boot', 'safety', 'class']]\n",
        "\n",
        "# Get user input\n",
        "budget = input(\"Enter your budget (low, med, high): \")\n",
        "doors = input(\"Enter your preferred number of doors (2, 3, 4, 5more): \")\n",
        "capacity = input(\"Enter your preferred capacity (2, 4, more): \")\n",
        "safety = input(\"Enter your preferred safety rating (low, med, high): \")\n",
        "\n",
        "# Call the recommend_car function with user input\n",
        "recommended_cars = recommend_car(budget, doors, capacity, safety)\n",
        "\n",
        "# Print the recommended cars\n",
        "print(recommended_cars)\n"
      ],
      "metadata": {
        "colab": {
          "base_uri": "https://localhost:8080/"
        },
        "id": "En7YDy4lobse",
        "outputId": "ef0b1939-a51a-4a2c-c41a-dea6be95d99a"
      },
      "execution_count": 4,
      "outputs": [
        {
          "output_type": "stream",
          "name": "stdout",
          "text": [
            "Enter your budget (low, med, high): low\n",
            "Enter your preferred number of doors (2, 3, 4, 5more): 2\n",
            "Enter your preferred capacity (2, 4, more): 2\n",
            "Enter your preferred safety rating (low, med, high): low\n",
            "     buying  maint doors persons lug_boot safety  class\n",
            "1296    low  vhigh     2       2    small    low  unacc\n",
            "1299    low  vhigh     2       2      med    low  unacc\n",
            "1302    low  vhigh     2       2      big    low  unacc\n",
            "1404    low   high     2       2    small    low  unacc\n",
            "1407    low   high     2       2      med    low  unacc\n",
            "1410    low   high     2       2      big    low  unacc\n",
            "1512    low    med     2       2    small    low  unacc\n",
            "1515    low    med     2       2      med    low  unacc\n",
            "1518    low    med     2       2      big    low  unacc\n",
            "1620    low    low     2       2    small    low  unacc\n",
            "1623    low    low     2       2      med    low  unacc\n",
            "1626    low    low     2       2      big    low  unacc\n"
          ]
        }
      ]
    }
  ]
}